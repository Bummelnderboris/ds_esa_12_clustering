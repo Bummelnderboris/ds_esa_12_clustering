{
 "cells": [
  {
   "cell_type": "code",
   "execution_count": 1,
   "metadata": {},
   "outputs": [],
   "source": [
    "# Okay time for our K-Means algorithm! woop woop!\n",
    "\n",
    "# We want our Kmeans algorithm not only to cluster by k given cluster, it should also be able to find best k\n",
    "# this will be done by an approach from the distortion theory, but later more on that. For now we just need to keep\n",
    "# that in mind for our approach tactic\n",
    "\n",
    "# 1. We need to take k+1 (starting with k=1) data points with k_max =< amount of values. (k_1+1,...,k_max) \n",
    "\n",
    "# 2. Calculate the euclidean distance to all data points and asign each to the class of the closest datapoint\n",
    "# 3. Calculate each center of mass for this distribution\n",
    "# 4. Repeat 2 and 3 m times until the centers of mass don't change and then continue with 1\n",
    "\n",
    "# 5. Now just insert the results in the formula to best k by finding the lowest rate of distortion withing the calculated clusters"
   ]
  },
  {
   "cell_type": "code",
   "execution_count": 2,
   "metadata": {},
   "outputs": [
    {
     "data": {
      "text/plain": [
       "array([[ -3.85259671,  10.60828445,  -6.42142279],\n",
       "       [ -0.57464754,   8.62593193,   7.43546332],\n",
       "       [  8.67873424,  -0.11108848,   8.12045245],\n",
       "       [ -1.65432273,   9.64708918,   6.98197127],\n",
       "       [  3.36490705,  -4.07048103,  -8.79492233],\n",
       "       [ -3.02788888,  11.11287439,  -4.53970678],\n",
       "       [ 10.73669676,   0.15818296,   9.49167985],\n",
       "       [  8.77402627,   0.07292082,   5.93880094],\n",
       "       [ -3.03929739,   9.64923993,  -6.92329726],\n",
       "       [  3.27554678,  -4.21386152, -12.40989805],\n",
       "       [  2.06063319,  -3.90935331, -10.62344743],\n",
       "       [ -0.36339938,   8.72934723,   8.16590862]])"
      ]
     },
     "execution_count": 2,
     "metadata": {},
     "output_type": "execute_result"
    }
   ],
   "source": [
    "%matplotlib inline\n",
    "import numpy as np\n",
    "import pandas as pd\n",
    "import random\n",
    "import matplotlib.pyplot as plt\n",
    "from math import sqrt\n",
    "from sklearn import datasets\n",
    "from sklearn.datasets import make_blobs\n",
    "\n",
    "# Create a clustered dataset to use\n",
    "ds,y = make_blobs(n_samples=12, n_features=3, centers=4)\n",
    "\n",
    "# Just to have it also as a dataframe, maybe we want to work with this\n",
    "# But I'd like to try it as a version of n dimensional numpy arrays, because i used a lot of pandas in the previous exercises\n",
    "df = pd.DataFrame (ds, y)\n",
    "df['cluster'] = y\n",
    "ds"
   ]
  },
  {
   "cell_type": "code",
   "execution_count": 3,
   "metadata": {},
   "outputs": [
    {
     "data": {
      "text/plain": [
       "[[-3.039297390917282, 9.64923992820526, -6.923297258907714],\n",
       " [-0.3633993844038621, 8.729347229218778, 8.165908623656554],\n",
       " [3.2755467832186103, -4.213861520538809, -12.409898050824403]]"
      ]
     },
     "execution_count": 3,
     "metadata": {},
     "output_type": "execute_result"
    }
   ],
   "source": [
    "# 1. Get random starting points.\n",
    "# when the logic on the simple model works, we will just embedd an incrementer on k and then compare the results for different k's\n",
    "# only important thing till now is, k has to be changable and the code stil needs to work\n",
    "\n",
    "clusters = []\n",
    "centroids = {}\n",
    "k = 3\n",
    "i=0\n",
    "l = 0\n",
    "\n",
    "\n",
    "sample_numbers = random.sample(range(1, len(df)), k)\n",
    "\n",
    "while i < k:\n",
    "    centroids[i] = ds[sample_numbers[i]]\n",
    "    clusters.append(list(centroids[i]))\n",
    "    i = i + 1                 #else: call next function\n",
    "    \n",
    "# fine now we have a list of centroids in our list of clusters\n",
    "clusters"
   ]
  },
  {
   "cell_type": "code",
   "execution_count": 4,
   "metadata": {},
   "outputs": [
    {
     "data": {
      "text/plain": [
       "1.3849763326407445"
      ]
     },
     "execution_count": 4,
     "metadata": {},
     "output_type": "execute_result"
    }
   ],
   "source": [
    "def euclidean_distance_on_array(target, distance_to):\n",
    "    distance = 0.0\n",
    "    for n in range(0,k-1): \n",
    "        distance = distance + (target[n] - distance_to[n])**2\n",
    "    return sqrt(distance)\n",
    "\n",
    "euclidean_distance_on_array(centroids[0], ds[3])\n"
   ]
  },
  {
   "cell_type": "code",
   "execution_count": 40,
   "metadata": {},
   "outputs": [],
   "source": [
    "list_of_clusters = []\n",
    "for j in range(k):\n",
    "    list_of_clusters.append([clusters[j]])\n",
    "    \n",
    "    \n",
    "    \n",
    "def clustering(clusterspoints, dataset):   \n",
    "    j = 0\n",
    "    store = []  \n",
    "    while j < k:     \n",
    "        for clpo in clusterspoints:\n",
    "            for row in dataset:\n",
    "                store.append((row,euclidean_distance_on_array(row,clpo)))\n",
    "        j = j+1\n",
    "        return (store)\n",
    "\n",
    "## Okay we got a list of arrays of the distances and datapoints to each cluster.\n",
    "\n",
    "## Contining questions: \n",
    "###Work on the list, with k as an index for comparisment and then asign them to the center of clusters\n",
    "###Or Seperate in three different lists by k values and then compare them\n",
    "###assumption:\n",
    "####the first approach would spare storage because this doesn't need to copy data and with indexing\n",
    "####it's also going through the list fast with n/k simple comparisments of k values\n",
    "\n",
    "#####!!!! With the first approach, storing the date in list_of_clusters needs to be specified by the amount\n",
    "##### of the position with an if/else condition on: (len(list)/amount(clusters)) = 1, then cluster 0 ...\n",
    "\n",
    "# Was heavier then expected with keeping it as dynamic as possible (for now)\n",
    "\n",
    "distanced = clustering(clusters, ds)"
   ]
  },
  {
   "cell_type": "code",
   "execution_count": 39,
   "metadata": {},
   "outputs": [
    {
     "data": {
      "text/plain": [
       "[(array([-3.85259671, 10.60828445, -6.42142279]), 1.2574665681612949),\n",
       " (array([-0.57464754,  8.62593193,  7.43546332]), 2.6686435070907777),\n",
       " (array([ 8.67873424, -0.11108848,  8.12045245]), 15.250451666104674),\n",
       " (array([-1.65432273,  9.64708918,  6.98197127]), 1.3849763326407445),\n",
       " (array([ 3.36490705, -4.07048103, -8.79492233]), 15.140824863375315),\n",
       " (array([-3.02788888, 11.11287439, -4.53970678]), 1.4636789221837792),\n",
       " (array([10.73669676,  0.15818296,  9.49167985]), 16.728962227269758),\n",
       " (array([8.77402627, 0.07292082, 5.93880094]), 15.207251680902608),\n",
       " (array([-3.03929739,  9.64923993, -6.92329726]), 0.0),\n",
       " (array([  3.27554678,  -4.21386152, -12.40989805]), 15.233608854168073),\n",
       " (array([  2.06063319,  -3.90935331, -10.62344743]), 14.486018861419256),\n",
       " (array([-0.36339938,  8.72934723,  8.16590862]), 2.8295993919477596),\n",
       " (array([-3.85259671, 10.60828445, -6.42142279]), 3.962941209750243),\n",
       " (array([-0.57464754,  8.62593193,  7.43546332]), 0.2352031143684218),\n",
       " (array([ 8.67873424, -0.11108848,  8.12045245]), 12.64569033594419),\n",
       " (array([-1.65432273,  9.64708918,  6.98197127]), 1.583898157441611),\n",
       " (array([ 3.36490705, -4.07048103, -8.79492233]), 13.331761782021923),\n",
       " (array([-3.02788888, 11.11287439, -4.53970678]), 3.5750113263742707),\n",
       " (array([10.73669676,  0.15818296,  9.49167985]), 14.024157419345435),\n",
       " (array([8.77402627, 0.07292082, 5.93880094]), 12.586749614435142),\n",
       " (array([-3.03929739,  9.64923993, -6.92329726]), 2.8295993919477596),\n",
       " (array([  3.27554678,  -4.21386152, -12.40989805]), 13.445020712169084),\n",
       " (array([  2.06063319,  -3.90935331, -10.62344743]), 12.869059218883848),\n",
       " (array([-0.36339938,  8.72934723,  8.16590862]), 0.0),\n",
       " (array([-3.85259671, 10.60828445, -6.42142279]), 16.44708000684818),\n",
       " (array([-0.57464754,  8.62593193,  7.43546332]), 13.404636965528054),\n",
       " (array([ 8.67873424, -0.11108848,  8.12045245]), 6.784333523251188),\n",
       " (array([-1.65432273,  9.64708918,  6.98197127]), 14.711545391371118),\n",
       " (array([ 3.36490705, -4.07048103, -8.79492233]), 0.16894739630769445),\n",
       " (array([-3.02788888, 11.11287439, -4.53970678]), 16.572330396365743),\n",
       " (array([10.73669676,  0.15818296,  9.49167985]), 8.647747220138132),\n",
       " (array([8.77402627, 0.07292082, 5.93880094]), 6.9720713929704825),\n",
       " (array([-3.03929739,  9.64923993, -6.92329726]), 15.233608854168073),\n",
       " (array([  3.27554678,  -4.21386152, -12.40989805]), 0.0),\n",
       " (array([  2.06063319,  -3.90935331, -10.62344743]), 1.2524936306354792),\n",
       " (array([-0.36339938,  8.72934723,  8.16590862]), 13.445020712169084)]"
      ]
     },
     "execution_count": 39,
     "metadata": {},
     "output_type": "execute_result"
    }
   ],
   "source": [
    "distanced"
   ]
  },
  {
   "cell_type": "code",
   "execution_count": null,
   "metadata": {},
   "outputs": [],
   "source": []
  },
  {
   "cell_type": "code",
   "execution_count": null,
   "metadata": {},
   "outputs": [],
   "source": []
  },
  {
   "cell_type": "code",
   "execution_count": null,
   "metadata": {},
   "outputs": [],
   "source": [
    "def clustering(clusterspoints, dataset):\n",
    "    j = 0\n",
    "    calc = {}\n",
    "    for row in dataset:\n",
    "        for clpo in clusterspoints:\n",
    "            calc[j] = euclidean_distance_on_array(row, clpo)\n",
    "            clusters[j+1].append(calc[j])\n",
    "    j = j+1\n",
    "    return (calc)"
   ]
  }
 ],
 "metadata": {
  "kernelspec": {
   "display_name": "Python 3",
   "language": "python",
   "name": "python3"
  },
  "language_info": {
   "codemirror_mode": {
    "name": "ipython",
    "version": 3
   },
   "file_extension": ".py",
   "mimetype": "text/x-python",
   "name": "python",
   "nbconvert_exporter": "python",
   "pygments_lexer": "ipython3",
   "version": "3.7.3"
  }
 },
 "nbformat": 4,
 "nbformat_minor": 2
}
