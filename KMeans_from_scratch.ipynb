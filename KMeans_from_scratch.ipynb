{
 "cells": [
  {
   "cell_type": "code",
   "execution_count": 1,
   "metadata": {},
   "outputs": [],
   "source": [
    "# Okay time for our K-Means algorithm! woop woop!\n",
    "\n",
    "# We want our Kmeans algorithm not only to cluster by k given cluster, it should also be able to find best k\n",
    "# this will be done by an approach from the distortion theory, but later more on that. For now we just need to keep\n",
    "# that in mind for our approach tactic\n",
    "\n",
    "# 1. We need to take k+1 (starting with k=1) data points with k_max =< amount of values. (k_1+1,...,k_max) \n",
    "\n",
    "# 2. Calculate the euclidean distance to all data points and asign each to the class of the closest datapoint\n",
    "# 3. Calculate each center of mass for this distribution\n",
    "# 4. Repeat 2 and 3 m times until the centers of mass don't change and then continue with 1\n",
    "\n",
    "# 5. Now just insert the results in the formula to best k by finding the lowest rate of distortion withing the calculated clusters"
   ]
  },
  {
   "cell_type": "code",
   "execution_count": 2,
   "metadata": {},
   "outputs": [],
   "source": [
    "%matplotlib inline\n",
    "import numpy as np\n",
    "import pandas as pd\n",
    "import random\n",
    "import matplotlib.pyplot as plt\n",
    "from math import sqrt\n",
    "from sklearn import datasets\n",
    "from sklearn.datasets import make_blobs\n",
    "\n",
    "# Create a clustered dataset to use\n",
    "ds,y = make_blobs(n_samples=800, n_features=3, centers=4)\n",
    "\n",
    "# Just to have it also as a dataframe, maybe we want to work with this\n",
    "df = pd.DataFrame (ds, y)\n",
    "df['cluster'] = y"
   ]
  },
  {
   "cell_type": "code",
   "execution_count": 3,
   "metadata": {},
   "outputs": [
    {
     "data": {
      "text/plain": [
       "[[-7.178472473140733, 8.386998659799792, 3.7006179542592066],\n",
       " [4.0404663732848105, 5.0569178666249135, 5.122295915461905]]"
      ]
     },
     "execution_count": 3,
     "metadata": {},
     "output_type": "execute_result"
    }
   ],
   "source": [
    "# 1. Get random starting points.\n",
    "# when the logic on the simple model works, we will just embedd an incrementer on k and then compare the results for different k's\n",
    "# only important thing till now is, k has to be changable and the code stil needs to work\n",
    "\n",
    "clusters = []\n",
    "centroids = {}\n",
    "k = 2\n",
    "i=0\n",
    "l = 0\n",
    "\n",
    "\n",
    "sample_numbers = random.sample(range(1, len(df)), k)\n",
    "\n",
    "while i < k:\n",
    "    centroids[i] = ds[sample_numbers[i]]\n",
    "    clusters.append(list(centroids[i]))\n",
    "    i = i + 1                 #else: call next function\n",
    "    \n",
    "# fine now we have a list of centroids in our list of clusters\n",
    "clusters"
   ]
  },
  {
   "cell_type": "code",
   "execution_count": 7,
   "metadata": {},
   "outputs": [
    {
     "name": "stdout",
     "output_type": "stream",
     "text": [
      "[-7.178472473140733, 8.386998659799792, 3.7006179542592066]\n",
      "[4.0404663732848105, 5.0569178666249135, 5.122295915461905]\n"
     ]
    }
   ],
   "source": [
    "def euclidean_distance_on_array(target, distance_to):\n",
    "    distance = 0.0\n",
    "    for n in range(0,k-1): \n",
    "        distance = distance + (target[n] - distance_to[n])**2\n",
    "    return sqrt(distance)\n",
    "\n",
    "euclidean_distance_on_array(centroids[0], ds[42])\n",
    "\n"
   ]
  },
  {
   "cell_type": "code",
   "execution_count": 12,
   "metadata": {},
   "outputs": [
    {
     "data": {
      "text/plain": [
       "{0: 0.7285816232705038}"
      ]
     },
     "execution_count": 12,
     "metadata": {},
     "output_type": "execute_result"
    }
   ],
   "source": [
    "def clustering(clusterspoints, dataset):\n",
    "    j = 0\n",
    "    calc = {}\n",
    "    compare=[]\n",
    "    for row in dataset:\n",
    "        for clpo in clusterspoints:\n",
    "            calc[j] = euclidean_distance_on_array(row, clpo)\n",
    "            compare.append(calc[j])\n",
    "    j = j+1\n",
    "    return (calc)\n",
    "        \n",
    "            \n",
    "            \n",
    "###\n",
    "        \n",
    "\n",
    "\n",
    "clustered = clustering(clusters, ds)\n",
    "clustered"
   ]
  },
  {
   "cell_type": "code",
   "execution_count": null,
   "metadata": {},
   "outputs": [],
   "source": [
    "e = 0\n",
    "c = 0\n",
    "for clusterpoint in clusters:\n",
    "    \n",
    "    for row in ds:\n",
    "        euclidean_distance_on_array(row, clusters[j])\n",
    "    "
   ]
  },
  {
   "cell_type": "code",
   "execution_count": null,
   "metadata": {},
   "outputs": [],
   "source": [
    "            if euclidean_distance_on_array(row, clusters[j]) <= euclidean_distance_on_array(row,clusters[j+1]):\n",
    "                clusters[j].append(euclidean_distance_on_array(row,clusters[j]))\n",
    "                j = j+1\n",
    "            else:\n",
    "                j = j+1\n",
    "                clusters[j].append(euclidean_distance_on_array(row,centroids[j]))"
   ]
  },
  {
   "cell_type": "code",
   "execution_count": null,
   "metadata": {},
   "outputs": [],
   "source": [
    "centers = {}\n",
    "for c in range(0,k):\n",
    "    centers[c] = centroids[c]\n",
    "    c = c+1"
   ]
  }
 ],
 "metadata": {
  "kernelspec": {
   "display_name": "Python 3",
   "language": "python",
   "name": "python3"
  },
  "language_info": {
   "codemirror_mode": {
    "name": "ipython",
    "version": 3
   },
   "file_extension": ".py",
   "mimetype": "text/x-python",
   "name": "python",
   "nbconvert_exporter": "python",
   "pygments_lexer": "ipython3",
   "version": "3.7.3"
  }
 },
 "nbformat": 4,
 "nbformat_minor": 2
}
