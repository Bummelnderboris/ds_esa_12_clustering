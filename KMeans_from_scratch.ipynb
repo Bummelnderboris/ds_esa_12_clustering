{
 "cells": [
  {
   "cell_type": "code",
   "execution_count": 1,
   "metadata": {},
   "outputs": [],
   "source": [
    "# Okay time for our K-Means algorithm! woop woop!\n",
    "\n",
    "# We want our Kmeans algorithm not only to cluster by k given cluster, it should also be able to find best k\n",
    "# this will be done by an approach from the distortion theory, but later more on that. For now we just need to keep\n",
    "# that in mind for our approach tactic\n",
    "\n",
    "# 1. We need to take k+1 (starting with k=1) data points with k_max =< amount of values. (k_1+1,...,k_max) \n",
    "\n",
    "# 2. Calculate the euclidean distance to all data points and asign each to the class of the closest datapoint\n",
    "# 3. Calculate each center of mass for this distribution\n",
    "# 4. Repeat 2 and 3 m times until the centers of mass don't change and then continue with 1\n",
    "\n",
    "# 5. Now just insert the results in the formula to best k by finding the lowest rate of distortion withing the calculated clusters"
   ]
  },
  {
   "cell_type": "code",
   "execution_count": 2,
   "metadata": {},
   "outputs": [
    {
     "data": {
      "text/html": [
       "<div>\n",
       "<style scoped>\n",
       "    .dataframe tbody tr th:only-of-type {\n",
       "        vertical-align: middle;\n",
       "    }\n",
       "\n",
       "    .dataframe tbody tr th {\n",
       "        vertical-align: top;\n",
       "    }\n",
       "\n",
       "    .dataframe thead th {\n",
       "        text-align: right;\n",
       "    }\n",
       "</style>\n",
       "<table border=\"1\" class=\"dataframe\">\n",
       "  <thead>\n",
       "    <tr style=\"text-align: right;\">\n",
       "      <th></th>\n",
       "      <th>0</th>\n",
       "      <th>1</th>\n",
       "      <th>2</th>\n",
       "      <th>cluster</th>\n",
       "    </tr>\n",
       "  </thead>\n",
       "  <tbody>\n",
       "    <tr>\n",
       "      <th>1</th>\n",
       "      <td>-3.852681</td>\n",
       "      <td>-3.808310</td>\n",
       "      <td>-0.064839</td>\n",
       "      <td>1</td>\n",
       "    </tr>\n",
       "    <tr>\n",
       "      <th>3</th>\n",
       "      <td>1.746339</td>\n",
       "      <td>-1.905851</td>\n",
       "      <td>8.460040</td>\n",
       "      <td>3</td>\n",
       "    </tr>\n",
       "    <tr>\n",
       "      <th>0</th>\n",
       "      <td>1.664480</td>\n",
       "      <td>0.135146</td>\n",
       "      <td>-3.225799</td>\n",
       "      <td>0</td>\n",
       "    </tr>\n",
       "    <tr>\n",
       "      <th>2</th>\n",
       "      <td>1.611037</td>\n",
       "      <td>-4.666085</td>\n",
       "      <td>-0.546046</td>\n",
       "      <td>2</td>\n",
       "    </tr>\n",
       "    <tr>\n",
       "      <th>3</th>\n",
       "      <td>3.375221</td>\n",
       "      <td>0.066820</td>\n",
       "      <td>7.817567</td>\n",
       "      <td>3</td>\n",
       "    </tr>\n",
       "    <tr>\n",
       "      <th>0</th>\n",
       "      <td>4.359855</td>\n",
       "      <td>-0.308422</td>\n",
       "      <td>-3.191804</td>\n",
       "      <td>0</td>\n",
       "    </tr>\n",
       "    <tr>\n",
       "      <th>2</th>\n",
       "      <td>1.450221</td>\n",
       "      <td>-3.460404</td>\n",
       "      <td>-1.651012</td>\n",
       "      <td>2</td>\n",
       "    </tr>\n",
       "    <tr>\n",
       "      <th>2</th>\n",
       "      <td>1.118456</td>\n",
       "      <td>-3.737970</td>\n",
       "      <td>0.428257</td>\n",
       "      <td>2</td>\n",
       "    </tr>\n",
       "    <tr>\n",
       "      <th>3</th>\n",
       "      <td>1.706042</td>\n",
       "      <td>-2.570971</td>\n",
       "      <td>7.626164</td>\n",
       "      <td>3</td>\n",
       "    </tr>\n",
       "    <tr>\n",
       "      <th>1</th>\n",
       "      <td>-2.896500</td>\n",
       "      <td>-3.817314</td>\n",
       "      <td>0.582327</td>\n",
       "      <td>1</td>\n",
       "    </tr>\n",
       "    <tr>\n",
       "      <th>0</th>\n",
       "      <td>2.112441</td>\n",
       "      <td>0.062759</td>\n",
       "      <td>-2.954915</td>\n",
       "      <td>0</td>\n",
       "    </tr>\n",
       "    <tr>\n",
       "      <th>1</th>\n",
       "      <td>-1.696793</td>\n",
       "      <td>-4.390230</td>\n",
       "      <td>-1.158100</td>\n",
       "      <td>1</td>\n",
       "    </tr>\n",
       "  </tbody>\n",
       "</table>\n",
       "</div>"
      ],
      "text/plain": [
       "          0         1         2  cluster\n",
       "1 -3.852681 -3.808310 -0.064839        1\n",
       "3  1.746339 -1.905851  8.460040        3\n",
       "0  1.664480  0.135146 -3.225799        0\n",
       "2  1.611037 -4.666085 -0.546046        2\n",
       "3  3.375221  0.066820  7.817567        3\n",
       "0  4.359855 -0.308422 -3.191804        0\n",
       "2  1.450221 -3.460404 -1.651012        2\n",
       "2  1.118456 -3.737970  0.428257        2\n",
       "3  1.706042 -2.570971  7.626164        3\n",
       "1 -2.896500 -3.817314  0.582327        1\n",
       "0  2.112441  0.062759 -2.954915        0\n",
       "1 -1.696793 -4.390230 -1.158100        1"
      ]
     },
     "execution_count": 2,
     "metadata": {},
     "output_type": "execute_result"
    }
   ],
   "source": [
    "%matplotlib inline\n",
    "import numpy as np\n",
    "import pandas as pd\n",
    "import random\n",
    "import matplotlib.pyplot as plt\n",
    "from math import sqrt\n",
    "from sklearn import datasets\n",
    "from sklearn.datasets import make_blobs\n",
    "\n",
    "# Create a clustered dataset to use\n",
    "ds,y = make_blobs(n_samples=12, n_features=3, centers=4)\n",
    "\n",
    "# Just to have it also as a dataframe, maybe we want to work with this\n",
    "# But I'd like to try it as a version of n dimensional numpy arrays, because i used a lot of pandas in the previous exercises\n",
    "df = pd.DataFrame (ds, y)\n",
    "df['cluster'] = y\n",
    "df"
   ]
  },
  {
   "cell_type": "code",
   "execution_count": 3,
   "metadata": {},
   "outputs": [
    {
     "data": {
      "text/plain": [
       "[[1.4502208906125396, -3.460404108058833, -1.6510121644371998],\n",
       " [4.359855036162113, -0.30842225184530014, -3.191803855985228],\n",
       " [1.1184555392461966, -3.737970329018588, 0.42825725594428976]]"
      ]
     },
     "execution_count": 3,
     "metadata": {},
     "output_type": "execute_result"
    }
   ],
   "source": [
    "# 1. Get random starting points.\n",
    "# when the logic on the simple model works, we will just embedd an incrementer on k and then compare the results for different k's\n",
    "# only important thing till now is, k has to be changable and the code stil needs to work\n",
    "\n",
    "clusters = []\n",
    "centroids = {}\n",
    "k = 3\n",
    "i=0\n",
    "l = 0\n",
    "\n",
    "sample_numbers = random.sample(range(1, len(df)), k)\n",
    "\n",
    "while i < k:\n",
    "    centroids[i] = ds[sample_numbers[i]]\n",
    "    clusters.append(list(centroids[i]))\n",
    "    i = i + 1                 #else: call next function\n",
    "    \n",
    "# fine now we have a list of centroids in our list of clusters\n",
    "clusters"
   ]
  },
  {
   "cell_type": "code",
   "execution_count": 4,
   "metadata": {},
   "outputs": [
    {
     "data": {
      "text/plain": [
       "1.2163582609911485"
      ]
     },
     "execution_count": 4,
     "metadata": {},
     "output_type": "execute_result"
    }
   ],
   "source": [
    "def euclidean_distance_on_array(target, distance_to):\n",
    "    distance = 0.0\n",
    "    for n in range(0,k-1): \n",
    "        distance = distance + (target[n] - distance_to[n])**2\n",
    "    return sqrt(distance)\n",
    "\n",
    "euclidean_distance_on_array(centroids[0], ds[3])\n"
   ]
  },
  {
   "cell_type": "code",
   "execution_count": 5,
   "metadata": {},
   "outputs": [
    {
     "data": {
      "text/plain": [
       "[(array([-3.85268126, -3.80831019, -0.06483917]), 5.314302386957911),\n",
       " (array([ 1.74633919, -1.90585142,  8.46003996]), 1.5825043808532966),\n",
       " (array([ 1.66447966,  0.13514617, -3.22579936]), 3.6019284543406576),\n",
       " (array([ 1.61103699, -4.66608466, -0.54604614]), 1.2163582609911485),\n",
       " (array([3.37522127, 0.06681971, 7.81756734]), 4.018324818023943),\n",
       " (array([ 4.35985504, -0.30842225, -3.19180386]), 4.289634073303608),\n",
       " (array([ 1.45022089, -3.46040411, -1.65101216]), 0.0),\n",
       " (array([ 1.11845554, -3.73797033,  0.42825726]), 0.43256358536649),\n",
       " (array([ 1.70604229, -2.57097065,  7.62616357]), 0.9254925545918841),\n",
       " (array([-2.89649978, -3.81731352,  0.58232729]), 4.361348983099581),\n",
       " (array([ 2.11244088,  0.06275904, -2.95491542]), 3.584858976785329),\n",
       " (array([-1.69679251, -4.39023017, -1.15810003]), 3.281504207377522),\n",
       " (array([-3.85268126, -3.80831019, -0.06483917]), 8.927203817942242),\n",
       " (array([ 1.74633919, -1.90585142,  8.46003996]), 3.0630450579343576),\n",
       " (array([ 1.66447966,  0.13514617, -3.22579936]), 2.731629796239548),\n",
       " (array([ 1.61103699, -4.66608466, -0.54604614]), 5.152205582516095),\n",
       " (array([3.37522127, 0.06681971, 7.81756734]), 1.0537125709422877),\n",
       " (array([ 4.35985504, -0.30842225, -3.19180386]), 0.0),\n",
       " (array([ 1.45022089, -3.46040411, -1.65101216]), 4.289634073303608),\n",
       " (array([ 1.11845554, -3.73797033,  0.42825726]), 4.7189480514463975),\n",
       " (array([ 1.70604229, -2.57097065,  7.62616357]), 3.487384027307212),\n",
       " (array([-2.89649978, -3.81731352,  0.58232729]), 8.060211113136315),\n",
       " (array([ 2.11244088,  0.06275904, -2.95491542]), 2.2778599428462867),\n",
       " (array([-1.69679251, -4.39023017, -1.15810003]), 7.303706962143328),\n",
       " (array([-3.85268126, -3.80831019, -0.06483917]), 4.971634416467312),\n",
       " (array([ 1.74633919, -1.90585142,  8.46003996]), 1.93672341447316),\n",
       " (array([ 1.66447966,  0.13514617, -3.22579936]), 3.911415820725811),\n",
       " (array([ 1.61103699, -4.66608466, -0.54604614]), 1.050729604000708),\n",
       " (array([3.37522127, 0.06681971, 7.81756734]), 4.423733584474802),\n",
       " (array([ 4.35985504, -0.30842225, -3.19180386]), 4.7189480514463975),\n",
       " (array([ 1.45022089, -3.46040411, -1.65101216]), 0.43256358536649),\n",
       " (array([ 1.11845554, -3.73797033,  0.42825726]), 0.0),\n",
       " (array([ 1.70604229, -2.57097065,  7.62616357]), 1.3065781428336642),\n",
       " (array([-2.89649978, -3.81731352,  0.58232729]), 4.015739233603756),\n",
       " (array([ 2.11244088,  0.06275904, -2.95491542]), 3.9285557903787343),\n",
       " (array([-1.69679251, -4.39023017, -1.15810003]), 2.8898208409429835)]"
      ]
     },
     "execution_count": 5,
     "metadata": {},
     "output_type": "execute_result"
    }
   ],
   "source": [
    "def clustering(clusterspoints, dataset):   \n",
    "    j = 0\n",
    "    store = []  \n",
    "    while j < k:     \n",
    "        for clpo in clusterspoints:\n",
    "            for row in dataset:\n",
    "                store.append((row,euclidean_distance_on_array(row,clpo)))\n",
    "        j = j+1\n",
    "        return (store)\n",
    "\n",
    "## Okay we got a list of arrays of the distances and datapoints to each cluster.\n",
    "\n",
    "## Contining questions: \n",
    "###Work on the list, with k as an index for comparisment and then asign them to the center of clusters\n",
    "###Or Seperate in three different lists by k values and then compare them\n",
    "###assumption:\n",
    "####the first approach would spare storage because this doesn't need to copy data and with indexing\n",
    "####it's also going through the list fast with n/k simple comparisments of k values\n",
    "\n",
    "#####!!!! With the first approach, storing the date in list_of_clusters needs to be specified by the amount\n",
    "##### of the position with an if/else condition on: (len(list)/amount(clusters)) = 1, then cluster 0 ...\n",
    "\n",
    "# Was heavier then expected with keeping it as dynamic as possible (for now)\n",
    "\n",
    "distanced = clustering(clusters, ds)\n",
    "distanced"
   ]
  },
  {
   "cell_type": "code",
   "execution_count": null,
   "metadata": {},
   "outputs": [],
   "source": []
  },
  {
   "cell_type": "code",
   "execution_count": 6,
   "metadata": {},
   "outputs": [],
   "source": [
    "#s = size of an average cluster. I had it calculated inplace before, but on large data it'll spare some calculations i guess\n",
    "s = (len(distanced)/k)\n",
    "int(s)\n",
    "l = 0\n",
    "dist_to_cluster=[]\n",
    "\n",
    "stored = {}\n",
    "while l < k:\n",
    "    stored[l] = distanced[int(s*l)+int(s-1)]\n",
    "    l = l+1\n",
    "\n",
    "##Proof if the maths is correct\n",
    "#while l < k:\n",
    "#    print(int((len(distanced)/k)*l),int((len(distanced)/k)*l)+int((len(distanced)/k))-1)\n",
    "#    print(l)\n",
    "#    l = l+1\n"
   ]
  },
  {
   "cell_type": "code",
   "execution_count": 10,
   "metadata": {},
   "outputs": [
    {
     "data": {
      "text/plain": [
       "[[[1.4502208906125396, -3.460404108058833, -1.6510121644371998]],\n",
       " [[4.359855036162113, -0.30842225184530014, -3.191803855985228]],\n",
       " [[1.1184555392461966, -3.737970329018588, 0.42825725594428976]]]"
      ]
     },
     "execution_count": 10,
     "metadata": {},
     "output_type": "execute_result"
    }
   ],
   "source": [
    "#Make a quick list of clusters so we can store the closest neighbor easily\n",
    "list_of_clusters=[]\n",
    "for row in clusters:\n",
    "    list_of_clusters.append([row])\n",
    "list_of_clusters"
   ]
  },
  {
   "cell_type": "code",
   "execution_count": 11,
   "metadata": {},
   "outputs": [
    {
     "data": {
      "text/plain": [
       "{0: (array([-1.69679251, -4.39023017, -1.15810003]), 3.281504207377522),\n",
       " 1: (array([-1.69679251, -4.39023017, -1.15810003]), 7.303706962143328),\n",
       " 2: (array([-1.69679251, -4.39023017, -1.15810003]), 2.8898208409429835)}"
      ]
     },
     "execution_count": 11,
     "metadata": {},
     "output_type": "execute_result"
    }
   ],
   "source": [
    "#We have now the problem, I don't know and don't find an answer how to access the second item of the arrays\n",
    "# in the dictonary so we will just create a pd.dataframe as a small help.\n",
    "stored"
   ]
  },
  {
   "cell_type": "code",
   "execution_count": 13,
   "metadata": {},
   "outputs": [
    {
     "data": {
      "text/html": [
       "<div>\n",
       "<style scoped>\n",
       "    .dataframe tbody tr th:only-of-type {\n",
       "        vertical-align: middle;\n",
       "    }\n",
       "\n",
       "    .dataframe tbody tr th {\n",
       "        vertical-align: top;\n",
       "    }\n",
       "\n",
       "    .dataframe thead th {\n",
       "        text-align: right;\n",
       "    }\n",
       "</style>\n",
       "<table border=\"1\" class=\"dataframe\">\n",
       "  <thead>\n",
       "    <tr style=\"text-align: right;\">\n",
       "      <th></th>\n",
       "      <th>0</th>\n",
       "      <th>1</th>\n",
       "      <th>2</th>\n",
       "    </tr>\n",
       "  </thead>\n",
       "  <tbody>\n",
       "    <tr>\n",
       "      <th>0</th>\n",
       "      <td>[-1.6967925133164554, -4.390230166269516, -1.1...</td>\n",
       "      <td>[-1.6967925133164554, -4.390230166269516, -1.1...</td>\n",
       "      <td>[-1.6967925133164554, -4.390230166269516, -1.1...</td>\n",
       "    </tr>\n",
       "    <tr>\n",
       "      <th>1</th>\n",
       "      <td>3.2815</td>\n",
       "      <td>7.30371</td>\n",
       "      <td>2.88982</td>\n",
       "    </tr>\n",
       "  </tbody>\n",
       "</table>\n",
       "</div>"
      ],
      "text/plain": [
       "                                                   0  \\\n",
       "0  [-1.6967925133164554, -4.390230166269516, -1.1...   \n",
       "1                                             3.2815   \n",
       "\n",
       "                                                   1  \\\n",
       "0  [-1.6967925133164554, -4.390230166269516, -1.1...   \n",
       "1                                            7.30371   \n",
       "\n",
       "                                                   2  \n",
       "0  [-1.6967925133164554, -4.390230166269516, -1.1...  \n",
       "1                                            2.88982  "
      ]
     },
     "execution_count": 13,
     "metadata": {},
     "output_type": "execute_result"
    }
   ],
   "source": [
    "pdf = pd.DataFrame(data=stored)\n",
    "pdf"
   ]
  },
  {
   "cell_type": "code",
   "execution_count": null,
   "metadata": {},
   "outputs": [],
   "source": []
  }
 ],
 "metadata": {
  "kernelspec": {
   "display_name": "Python 3",
   "language": "python",
   "name": "python3"
  },
  "language_info": {
   "codemirror_mode": {
    "name": "ipython",
    "version": 3
   },
   "file_extension": ".py",
   "mimetype": "text/x-python",
   "name": "python",
   "nbconvert_exporter": "python",
   "pygments_lexer": "ipython3",
   "version": "3.7.3"
  }
 },
 "nbformat": 4,
 "nbformat_minor": 2
}
