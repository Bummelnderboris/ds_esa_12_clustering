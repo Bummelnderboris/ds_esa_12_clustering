{
 "cells": [
  {
   "cell_type": "code",
   "execution_count": 1,
   "metadata": {},
   "outputs": [],
   "source": [
    "# Okay time for our K-Means algorithm! woop woop!\n",
    "\n",
    "# We want our Kmeans algorithm not only to cluster by k given cluster, it should also be able to find best k\n",
    "# this will be done by an approach from the distortion theory, but later more on that. For now we just need to keep\n",
    "# that in mind for our approach tactic\n",
    "\n",
    "# 1. We need to take k+1 (starting with k=1) data points with k_max =< amount of values. (k_1+1,...,k_max) \n",
    "\n",
    "# 2. Calculate the euclidean distance to all data points and asign each to the class of the closest datapoint\n",
    "# 3. Calculate each center of mass for this distribution\n",
    "# 4. Repeat 2 and 3 m times until the centers of mass don't change and then continue with 1\n",
    "\n",
    "# 5. Now just insert the results in the formula to best k by finding the lowest rate of distortion withing the calculated clusters"
   ]
  },
  {
   "cell_type": "code",
   "execution_count": 2,
   "metadata": {},
   "outputs": [
    {
     "data": {
      "text/html": [
       "<div>\n",
       "<style scoped>\n",
       "    .dataframe tbody tr th:only-of-type {\n",
       "        vertical-align: middle;\n",
       "    }\n",
       "\n",
       "    .dataframe tbody tr th {\n",
       "        vertical-align: top;\n",
       "    }\n",
       "\n",
       "    .dataframe thead th {\n",
       "        text-align: right;\n",
       "    }\n",
       "</style>\n",
       "<table border=\"1\" class=\"dataframe\">\n",
       "  <thead>\n",
       "    <tr style=\"text-align: right;\">\n",
       "      <th></th>\n",
       "      <th>0</th>\n",
       "      <th>1</th>\n",
       "      <th>2</th>\n",
       "      <th>cluster</th>\n",
       "    </tr>\n",
       "  </thead>\n",
       "  <tbody>\n",
       "    <tr>\n",
       "      <th>3</th>\n",
       "      <td>2.889392</td>\n",
       "      <td>3.549439</td>\n",
       "      <td>3.505743</td>\n",
       "      <td>3</td>\n",
       "    </tr>\n",
       "    <tr>\n",
       "      <th>2</th>\n",
       "      <td>-0.269246</td>\n",
       "      <td>-1.150041</td>\n",
       "      <td>-3.035434</td>\n",
       "      <td>2</td>\n",
       "    </tr>\n",
       "    <tr>\n",
       "      <th>1</th>\n",
       "      <td>-11.931845</td>\n",
       "      <td>-8.908321</td>\n",
       "      <td>-3.555251</td>\n",
       "      <td>1</td>\n",
       "    </tr>\n",
       "    <tr>\n",
       "      <th>0</th>\n",
       "      <td>6.403335</td>\n",
       "      <td>-9.912398</td>\n",
       "      <td>6.385173</td>\n",
       "      <td>0</td>\n",
       "    </tr>\n",
       "    <tr>\n",
       "      <th>0</th>\n",
       "      <td>5.612679</td>\n",
       "      <td>-9.631944</td>\n",
       "      <td>5.237405</td>\n",
       "      <td>0</td>\n",
       "    </tr>\n",
       "    <tr>\n",
       "      <th>1</th>\n",
       "      <td>-9.723992</td>\n",
       "      <td>-10.526056</td>\n",
       "      <td>-4.498245</td>\n",
       "      <td>1</td>\n",
       "    </tr>\n",
       "    <tr>\n",
       "      <th>3</th>\n",
       "      <td>2.103143</td>\n",
       "      <td>0.386953</td>\n",
       "      <td>3.023692</td>\n",
       "      <td>3</td>\n",
       "    </tr>\n",
       "    <tr>\n",
       "      <th>0</th>\n",
       "      <td>4.644753</td>\n",
       "      <td>-9.688272</td>\n",
       "      <td>7.661258</td>\n",
       "      <td>0</td>\n",
       "    </tr>\n",
       "    <tr>\n",
       "      <th>1</th>\n",
       "      <td>-9.623615</td>\n",
       "      <td>-9.493531</td>\n",
       "      <td>-4.353334</td>\n",
       "      <td>1</td>\n",
       "    </tr>\n",
       "    <tr>\n",
       "      <th>2</th>\n",
       "      <td>-2.808348</td>\n",
       "      <td>-1.564924</td>\n",
       "      <td>-4.368333</td>\n",
       "      <td>2</td>\n",
       "    </tr>\n",
       "    <tr>\n",
       "      <th>2</th>\n",
       "      <td>0.449572</td>\n",
       "      <td>-0.729336</td>\n",
       "      <td>-2.749524</td>\n",
       "      <td>2</td>\n",
       "    </tr>\n",
       "    <tr>\n",
       "      <th>3</th>\n",
       "      <td>1.655197</td>\n",
       "      <td>2.041515</td>\n",
       "      <td>3.955026</td>\n",
       "      <td>3</td>\n",
       "    </tr>\n",
       "  </tbody>\n",
       "</table>\n",
       "</div>"
      ],
      "text/plain": [
       "           0          1         2  cluster\n",
       "3   2.889392   3.549439  3.505743        3\n",
       "2  -0.269246  -1.150041 -3.035434        2\n",
       "1 -11.931845  -8.908321 -3.555251        1\n",
       "0   6.403335  -9.912398  6.385173        0\n",
       "0   5.612679  -9.631944  5.237405        0\n",
       "1  -9.723992 -10.526056 -4.498245        1\n",
       "3   2.103143   0.386953  3.023692        3\n",
       "0   4.644753  -9.688272  7.661258        0\n",
       "1  -9.623615  -9.493531 -4.353334        1\n",
       "2  -2.808348  -1.564924 -4.368333        2\n",
       "2   0.449572  -0.729336 -2.749524        2\n",
       "3   1.655197   2.041515  3.955026        3"
      ]
     },
     "execution_count": 2,
     "metadata": {},
     "output_type": "execute_result"
    }
   ],
   "source": [
    "%matplotlib inline\n",
    "import numpy as np\n",
    "import pandas as pd\n",
    "import random\n",
    "import matplotlib.pyplot as plt\n",
    "from math import sqrt\n",
    "from sklearn import datasets\n",
    "from sklearn.datasets import make_blobs\n",
    "\n",
    "# Create a clustered dataset to use\n",
    "ds,y = make_blobs(n_samples=12, n_features=3, centers=4)\n",
    "\n",
    "# Just to have it also as a dataframe, maybe we want to work with this\n",
    "# But I'd like to try it as a version of n dimensional numpy arrays, because i used a lot of pandas in the previous exercises\n",
    "df = pd.DataFrame (ds, y)\n",
    "df['cluster'] = y\n",
    "df"
   ]
  },
  {
   "cell_type": "code",
   "execution_count": 3,
   "metadata": {},
   "outputs": [
    {
     "data": {
      "text/plain": [
       "[[5.612679175889082, -9.631944392494422, 5.237405061449822],\n",
       " [6.403335322848845, -9.912397774337537, 6.385173317521126],\n",
       " [0.4495722388688934, -0.729335867688047, -2.7495243132386364]]"
      ]
     },
     "execution_count": 3,
     "metadata": {},
     "output_type": "execute_result"
    }
   ],
   "source": [
    "# 1. Get random starting points.\n",
    "# when the logic on the simple model works, we will just embedd an incrementer on k and then compare the results for different k's\n",
    "# only important thing till now is, k has to be changable and the code stil needs to work\n",
    "\n",
    "clusters = []\n",
    "centroids = {}\n",
    "k = 3\n",
    "i=0\n",
    "l = 0\n",
    "\n",
    "sample_numbers = random.sample(range(1, len(df)), k)\n",
    "\n",
    "while i < k:\n",
    "    centroids[i] = ds[sample_numbers[i]]\n",
    "    clusters.append(list(centroids[i]))\n",
    "    i = i + 1                 #else: call next function\n",
    "    \n",
    "# fine now we have a list of centroids in our list of clusters\n",
    "clusters"
   ]
  },
  {
   "cell_type": "code",
   "execution_count": 4,
   "metadata": {},
   "outputs": [
    {
     "data": {
      "text/plain": [
       "0.838922667540041"
      ]
     },
     "execution_count": 4,
     "metadata": {},
     "output_type": "execute_result"
    }
   ],
   "source": [
    "def euclidean_distance_on_array(target, distance_to):\n",
    "    distance = 0.0\n",
    "    for n in range(0,k-1): \n",
    "        distance = distance + (target[n] - distance_to[n])**2\n",
    "    return sqrt(distance)\n",
    "\n",
    "euclidean_distance_on_array(centroids[0], ds[3])\n"
   ]
  },
  {
   "cell_type": "code",
   "execution_count": 5,
   "metadata": {},
   "outputs": [
    {
     "data": {
      "text/plain": [
       "[(array([2.88939165, 3.54943862, 3.5057429 ]), 13.459760510533481),\n",
       " (array([-0.26924578, -1.15004124, -3.03543449]), 10.321808094941053),\n",
       " (array([-11.9318448 ,  -8.90832139,  -3.5552514 ]), 17.559440533269232),\n",
       " (array([ 6.40333532, -9.91239777,  6.38517332]), 0.838922667540041),\n",
       " (array([ 5.61267918, -9.63194439,  5.23740506]), 0.0),\n",
       " (array([ -9.72399201, -10.52605591,  -4.49824544]), 15.362711948571615),\n",
       " (array([2.10314302, 0.38695301, 3.02369162]), 10.61579715321877),\n",
       " (array([ 4.64475316, -9.68827197,  7.6612579 ]), 0.9695635920945882),\n",
       " (array([-9.6236149 , -9.49353122, -4.35333354]), 15.236922769593214),\n",
       " (array([-2.80834787, -1.56492427, -4.36833296]), 11.661496911275231),\n",
       " (array([ 0.44957224, -0.72933587, -2.74952431]), 10.29145819546779),\n",
       " (array([1.65519674, 2.04151478, 3.95502585]), 12.326042194240175),\n",
       " (array([2.88939165, 3.54943862, 3.5057429 ]), 13.912901896119612),\n",
       " (array([-0.26924578, -1.15004124, -3.03543449]), 11.013729190746993),\n",
       " (array([-11.9318448 ,  -8.90832139,  -3.5552514 ]), 18.362652302370066),\n",
       " (array([ 6.40333532, -9.91239777,  6.38517332]), 0.0),\n",
       " (array([ 5.61267918, -9.63194439,  5.23740506]), 0.838922667540041),\n",
       " (array([ -9.72399201, -10.52605591,  -4.49824544]), 16.13899820768354),\n",
       " (array([2.10314302, 0.38695301, 3.02369162]), 11.161016101810473),\n",
       " (array([ 4.64475316, -9.68827197,  7.6612579 ]), 1.7728066969042269),\n",
       " (array([-9.6236149 , -9.49353122, -4.35333354]), 16.032422859737153),\n",
       " (array([-2.80834787, -1.56492427, -4.36833296]), 12.431227662679998),\n",
       " (array([ 0.44957224, -0.72933587, -2.74952431]), 10.944218603514798),\n",
       " (array([1.65519674, 2.04151478, 3.95502585]), 12.862381009937913),\n",
       " (array([2.88939165, 3.54943862, 3.5057429 ]), 4.925508081365474),\n",
       " (array([-0.26924578, -1.15004124, -3.03543449]), 0.8328819569296169),\n",
       " (array([-11.9318448 ,  -8.90832139,  -3.5552514 ]), 14.83897880756756),\n",
       " (array([ 6.40333532, -9.91239777,  6.38517332]), 10.944218603514798),\n",
       " (array([ 5.61267918, -9.63194439,  5.23740506]), 10.29145819546779),\n",
       " (array([ -9.72399201, -10.52605591,  -4.49824544]), 14.123637391152418),\n",
       " (array([2.10314302, 0.38695301, 3.02369162]), 1.9950932798992829),\n",
       " (array([ 4.64475316, -9.68827197,  7.6612579 ]), 9.89252642373153),\n",
       " (array([-9.6236149 , -9.49353122, -4.35333354]), 13.352161601741221),\n",
       " (array([-2.80834787, -1.56492427, -4.36833296]), 3.3633690579707856),\n",
       " (array([ 0.44957224, -0.72933587, -2.74952431]), 0.0),\n",
       " (array([1.65519674, 2.04151478, 3.95502585]), 3.021778240332093)]"
      ]
     },
     "execution_count": 5,
     "metadata": {},
     "output_type": "execute_result"
    }
   ],
   "source": [
    "def clustering(clusterspoints, dataset):   \n",
    "    j = 0\n",
    "    store = []  \n",
    "    while j < k:     \n",
    "        for clpo in clusterspoints:\n",
    "            for row in dataset:\n",
    "                store.append((row,euclidean_distance_on_array(row,clpo)))\n",
    "        j = j+1\n",
    "        return (store)\n",
    "\n",
    "## Okay we got a list of arrays of the distances and datapoints to each cluster.\n",
    "\n",
    "## Contining questions: \n",
    "###Work on the list, with k as an index for comparisment and then asign them to the center of clusters\n",
    "###Or Seperate in three different lists by k values and then compare them\n",
    "###assumption:\n",
    "####the first approach would spare storage because this doesn't need to copy data and with indexing\n",
    "####it's also going through the list fast with n/k simple comparisments of k values\n",
    "\n",
    "#####!!!! With the first approach, storing the date in list_of_clusters needs to be specified by the amount\n",
    "##### of the position with an if/else condition on: (len(list)/amount(clusters)) = 1, then cluster 0 ...\n",
    "\n",
    "# Was heavier then expected with keeping it as dynamic as possible (for now)\n",
    "\n",
    "distanced = clustering(clusters, ds)\n",
    "distanced"
   ]
  },
  {
   "cell_type": "code",
   "execution_count": null,
   "metadata": {},
   "outputs": [],
   "source": []
  },
  {
   "cell_type": "code",
   "execution_count": 6,
   "metadata": {},
   "outputs": [
    {
     "data": {
      "text/plain": [
       "{0: (array([1.65519674, 2.04151478, 3.95502585]), 12.326042194240175),\n",
       " 1: (array([1.65519674, 2.04151478, 3.95502585]), 12.862381009937913),\n",
       " 2: (array([1.65519674, 2.04151478, 3.95502585]), 3.021778240332093)}"
      ]
     },
     "execution_count": 6,
     "metadata": {},
     "output_type": "execute_result"
    }
   ],
   "source": [
    "#s = size of an average cluster. I had it calculated inplace before, but on large data it'll spare some calculations i guess\n",
    "s = (len(distanced)/k)\n",
    "int(s)\n",
    "l = 0\n",
    "dist_to_cluster=[]\n",
    "\n",
    "stored = {}\n",
    "while l < k:\n",
    "    stored[l] = distanced[int(s*l)+int(s-1)]\n",
    "    l = l+1\n",
    "\n",
    "##Proof if the maths is correct\n",
    "#while l < k:\n",
    "#    print(int((len(distanced)/k)*l),int((len(distanced)/k)*l)+int((len(distanced)/k))-1)\n",
    "#    print(l)\n",
    "#    l = l+1\n",
    "stored"
   ]
  },
  {
   "cell_type": "code",
   "execution_count": 14,
   "metadata": {},
   "outputs": [
    {
     "data": {
      "text/plain": [
       "[[5.612679175889082, -9.631944392494422, 5.237405061449822],\n",
       " [6.403335322848845, -9.912397774337537, 6.385173317521126, [1, 1, 1]],\n",
       " [0.4495722388688934, -0.729335867688047, -2.7495243132386364]]"
      ]
     },
     "execution_count": 14,
     "metadata": {},
     "output_type": "execute_result"
    }
   ],
   "source": [
    "#Make a quick list of clusters so we can store the closest neighbor easily\n",
    "list_of_clusters=[]\n",
    "for row in clusters:\n",
    "    list_of_clusters.append([row])\n",
    "list_of_clusters\n",
    "\n",
    "#we can now append the 'row' of the dictonary with the smalest distanced into the same 'row' as in this list"
   ]
  },
  {
   "cell_type": "code",
   "execution_count": 15,
   "metadata": {},
   "outputs": [
    {
     "data": {
      "text/plain": [
       "[(0, (array([1.65519674, 2.04151478, 3.95502585]), 12.326042194240175)),\n",
       " (1, (array([1.65519674, 2.04151478, 3.95502585]), 12.862381009937913)),\n",
       " (2, (array([1.65519674, 2.04151478, 3.95502585]), 3.021778240332093))]"
      ]
     },
     "execution_count": 15,
     "metadata": {},
     "output_type": "execute_result"
    }
   ],
   "source": [
    "## Okay this step was quite tricky and took a while to figure out but now we can extract the closest values and have the cluster aswell\n",
    "sto_list = [(k,v) for k,v in stored.items()]\n",
    "sto_list\n",
    "\n",
    "c = 0\n",
    "dist_int = []\n",
    "\n",
    "while c < k:\n",
    "    if c == k-1:  #catch the error of line index out of space ##Unhappy with this solution (k-1) times a comparisment\n",
    "        if dist_int == []: #catch the case of searched item is last in last\n",
    "            dist_int = sto_list[c]\n",
    "            if dist_int[-1][-1][-1] == 0.0: #if the datapoint itself is hit, skip appending (this might cause minor errors)\n",
    "                break\n",
    "            else:\n",
    "                list_of_clusters[dist_int[0]].append(dist_int[1][0].tolist())\n",
    "        else:\n",
    "            list_of_clusters[dist_int[0]].append(dist_int[1][0].tolist())\n",
    "        break\n",
    "    else:\n",
    "        if sto_list[c][-1][-1] < sto_list[c+1][-1][-1]:\n",
    "            dist_int = sto_list[c]\n",
    "            c = c+1\n",
    "        else:\n",
    "            c = c+1\n",
    "            \n",
    "list_of_clusters\n",
    "##Super Neet!\n",
    "sto_list"
   ]
  },
  {
   "cell_type": "code",
   "execution_count": 11,
   "metadata": {},
   "outputs": [],
   "source": [
    "# Okay now it's time to assemble our components into propper functions\n",
    "# Let's do this in a seperate notebook"
   ]
  },
  {
   "cell_type": "code",
   "execution_count": null,
   "metadata": {},
   "outputs": [],
   "source": []
  },
  {
   "cell_type": "code",
   "execution_count": null,
   "metadata": {},
   "outputs": [],
   "source": []
  }
 ],
 "metadata": {
  "kernelspec": {
   "display_name": "Python 3",
   "language": "python",
   "name": "python3"
  },
  "language_info": {
   "codemirror_mode": {
    "name": "ipython",
    "version": 3
   },
   "file_extension": ".py",
   "mimetype": "text/x-python",
   "name": "python",
   "nbconvert_exporter": "python",
   "pygments_lexer": "ipython3",
   "version": "3.7.3"
  }
 },
 "nbformat": 4,
 "nbformat_minor": 2
}
