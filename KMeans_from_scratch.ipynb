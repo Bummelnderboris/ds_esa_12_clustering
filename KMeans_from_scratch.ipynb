{
 "cells": [
  {
   "cell_type": "code",
   "execution_count": 1,
   "metadata": {},
   "outputs": [],
   "source": [
    "# Okay time for our K-Means algorithm! woop woop!\n",
    "\n",
    "# We want our Kmeans algorithm not only to cluster by k given cluster, it should also be able to find best k\n",
    "# this will be done by an approach from the distortion theory, but later more on that. For now we just need to keep\n",
    "# that in mind for our approach tactic\n",
    "\n",
    "# 1. We need to take k+1 (starting with k=1) data points with k_max =< amount of values. (k_1+1,...,k_max) \n",
    "\n",
    "# 2. Calculate the euclidean distance to all data points and asign each to the class of the closest datapoint\n",
    "# 3. Calculate each center of mass for this distribution\n",
    "# 4. Repeat 2 and 3 m times until the centers of mass don't change and then continue with 1\n",
    "\n",
    "# 5. Now just insert the results in the formula to best k by finding the lowest rate of distortion withing the calculated clusters"
   ]
  },
  {
   "cell_type": "code",
   "execution_count": 2,
   "metadata": {},
   "outputs": [
    {
     "data": {
      "text/html": [
       "<div>\n",
       "<style scoped>\n",
       "    .dataframe tbody tr th:only-of-type {\n",
       "        vertical-align: middle;\n",
       "    }\n",
       "\n",
       "    .dataframe tbody tr th {\n",
       "        vertical-align: top;\n",
       "    }\n",
       "\n",
       "    .dataframe thead th {\n",
       "        text-align: right;\n",
       "    }\n",
       "</style>\n",
       "<table border=\"1\" class=\"dataframe\">\n",
       "  <thead>\n",
       "    <tr style=\"text-align: right;\">\n",
       "      <th></th>\n",
       "      <th>0</th>\n",
       "      <th>1</th>\n",
       "      <th>2</th>\n",
       "      <th>cluster</th>\n",
       "    </tr>\n",
       "  </thead>\n",
       "  <tbody>\n",
       "    <tr>\n",
       "      <th>2</th>\n",
       "      <td>-9.304885</td>\n",
       "      <td>1.691769</td>\n",
       "      <td>1.139202</td>\n",
       "      <td>2</td>\n",
       "    </tr>\n",
       "    <tr>\n",
       "      <th>3</th>\n",
       "      <td>-10.427546</td>\n",
       "      <td>-6.744266</td>\n",
       "      <td>-4.038529</td>\n",
       "      <td>3</td>\n",
       "    </tr>\n",
       "    <tr>\n",
       "      <th>2</th>\n",
       "      <td>-10.483713</td>\n",
       "      <td>1.495862</td>\n",
       "      <td>0.340748</td>\n",
       "      <td>2</td>\n",
       "    </tr>\n",
       "    <tr>\n",
       "      <th>3</th>\n",
       "      <td>-9.012487</td>\n",
       "      <td>-7.452356</td>\n",
       "      <td>-2.472303</td>\n",
       "      <td>3</td>\n",
       "    </tr>\n",
       "    <tr>\n",
       "      <th>0</th>\n",
       "      <td>5.448747</td>\n",
       "      <td>-5.410014</td>\n",
       "      <td>2.925210</td>\n",
       "      <td>0</td>\n",
       "    </tr>\n",
       "    <tr>\n",
       "      <th>3</th>\n",
       "      <td>-9.461022</td>\n",
       "      <td>-8.210320</td>\n",
       "      <td>-2.963725</td>\n",
       "      <td>3</td>\n",
       "    </tr>\n",
       "    <tr>\n",
       "      <th>0</th>\n",
       "      <td>5.539260</td>\n",
       "      <td>-5.085410</td>\n",
       "      <td>3.069483</td>\n",
       "      <td>0</td>\n",
       "    </tr>\n",
       "    <tr>\n",
       "      <th>1</th>\n",
       "      <td>-7.291414</td>\n",
       "      <td>-8.699045</td>\n",
       "      <td>9.354215</td>\n",
       "      <td>1</td>\n",
       "    </tr>\n",
       "    <tr>\n",
       "      <th>1</th>\n",
       "      <td>-4.967827</td>\n",
       "      <td>-8.683483</td>\n",
       "      <td>8.878855</td>\n",
       "      <td>1</td>\n",
       "    </tr>\n",
       "    <tr>\n",
       "      <th>1</th>\n",
       "      <td>-6.518002</td>\n",
       "      <td>-7.515309</td>\n",
       "      <td>10.688842</td>\n",
       "      <td>1</td>\n",
       "    </tr>\n",
       "    <tr>\n",
       "      <th>0</th>\n",
       "      <td>6.974874</td>\n",
       "      <td>-3.296447</td>\n",
       "      <td>1.322521</td>\n",
       "      <td>0</td>\n",
       "    </tr>\n",
       "    <tr>\n",
       "      <th>2</th>\n",
       "      <td>-6.642468</td>\n",
       "      <td>3.006618</td>\n",
       "      <td>1.324946</td>\n",
       "      <td>2</td>\n",
       "    </tr>\n",
       "  </tbody>\n",
       "</table>\n",
       "</div>"
      ],
      "text/plain": [
       "           0         1          2  cluster\n",
       "2  -9.304885  1.691769   1.139202        2\n",
       "3 -10.427546 -6.744266  -4.038529        3\n",
       "2 -10.483713  1.495862   0.340748        2\n",
       "3  -9.012487 -7.452356  -2.472303        3\n",
       "0   5.448747 -5.410014   2.925210        0\n",
       "3  -9.461022 -8.210320  -2.963725        3\n",
       "0   5.539260 -5.085410   3.069483        0\n",
       "1  -7.291414 -8.699045   9.354215        1\n",
       "1  -4.967827 -8.683483   8.878855        1\n",
       "1  -6.518002 -7.515309  10.688842        1\n",
       "0   6.974874 -3.296447   1.322521        0\n",
       "2  -6.642468  3.006618   1.324946        2"
      ]
     },
     "execution_count": 2,
     "metadata": {},
     "output_type": "execute_result"
    }
   ],
   "source": [
    "%matplotlib inline\n",
    "import numpy as np\n",
    "import pandas as pd\n",
    "import random\n",
    "import matplotlib.pyplot as plt\n",
    "from math import sqrt\n",
    "from sklearn import datasets\n",
    "from sklearn.datasets import make_blobs\n",
    "\n",
    "# Create a clustered dataset to use\n",
    "ds,y = make_blobs(n_samples=12, n_features=3, centers=4)\n",
    "\n",
    "# Just to have it also as a dataframe, maybe we want to work with this\n",
    "# But I'd like to try it as a version of n dimensional numpy arrays, because i used a lot of pandas in the previous exercises\n",
    "df = pd.DataFrame (ds, y)\n",
    "df['cluster'] = y\n",
    "df"
   ]
  },
  {
   "cell_type": "code",
   "execution_count": 3,
   "metadata": {},
   "outputs": [
    {
     "data": {
      "text/plain": [
       "[[-10.427546200483134, -6.74426640837995, -4.038529247585167],\n",
       " [5.539260250655745, -5.085409939456111, 3.0694833784323214],\n",
       " [-9.461022168839044, -8.21032017434563, -2.963724598533105]]"
      ]
     },
     "execution_count": 3,
     "metadata": {},
     "output_type": "execute_result"
    }
   ],
   "source": [
    "# 1. Get random starting points.\n",
    "# when the logic on the simple model works, we will just embedd an incrementer on k and then compare the results for different k's\n",
    "# only important thing till now is, k has to be changable and the code stil needs to work\n",
    "\n",
    "clusters = []\n",
    "centroids = {}\n",
    "k = 3\n",
    "i=0\n",
    "l = 0\n",
    "\n",
    "sample_numbers = random.sample(range(1, len(df)), k)\n",
    "\n",
    "while i < k:\n",
    "    centroids[i] = ds[sample_numbers[i]]\n",
    "    clusters.append(list(centroids[i]))\n",
    "    i = i + 1                 #else: call next function\n",
    "    \n",
    "# fine now we have a list of centroids in our list of clusters\n",
    "clusters"
   ]
  },
  {
   "cell_type": "code",
   "execution_count": 4,
   "metadata": {},
   "outputs": [
    {
     "data": {
      "text/plain": [
       "1.5823348185787158"
      ]
     },
     "execution_count": 4,
     "metadata": {},
     "output_type": "execute_result"
    }
   ],
   "source": [
    "def euclidean_distance_on_array(target, distance_to):\n",
    "    distance = 0.0\n",
    "    for n in range(0,k-1): \n",
    "        distance = distance + (target[n] - distance_to[n])**2\n",
    "    return sqrt(distance)\n",
    "\n",
    "euclidean_distance_on_array(centroids[0], ds[3])\n"
   ]
  },
  {
   "cell_type": "code",
   "execution_count": 5,
   "metadata": {},
   "outputs": [
    {
     "data": {
      "text/plain": [
       "[(array([-9.30488484,  1.69176872,  1.13920151]), 8.51040876023201),\n",
       " (array([-10.4275462 ,  -6.74426641,  -4.03852925]), 0.0),\n",
       " (array([-10.48371345,   1.49586209,   0.34074824]), 8.240319924852578),\n",
       " (array([-9.01248703, -7.45235611, -2.47230333]), 1.5823348185787158),\n",
       " (array([ 5.4487465 , -5.4100137 ,  2.92520958]), 15.932259736102042),\n",
       " (array([-9.46102217, -8.21032017, -2.9637246 ]), 1.75598472329565),\n",
       " (array([ 5.53926025, -5.08540994,  3.06948338]), 16.05274783433106),\n",
       " (array([-7.29141424, -8.69904549,  9.35421479]), 3.695468156270527),\n",
       " (array([-4.96782721, -8.68348285,  8.87885495]), 5.7938840009020804),\n",
       " (array([-6.51800163, -7.51530902, 10.6888415 ]), 3.9848520009643043),\n",
       " (array([ 6.97487358, -3.29644711,  1.32252088]), 17.740678461273262),\n",
       " (array([-6.6424682 ,  3.00661781,  1.32494601]), 10.459759009071206),\n",
       " (array([-9.30488484,  1.69176872,  1.13920151]), 16.318051176794462),\n",
       " (array([-10.4275462 ,  -6.74426641,  -4.03852925]), 16.05274783433106),\n",
       " (array([-10.48371345,   1.49586209,   0.34074824]), 17.321917554258622),\n",
       " (array([-9.01248703, -7.45235611, -2.47230333]), 14.74299098281275),\n",
       " (array([ 5.4487465 , -5.4100137 ,  2.92520958]), 0.33698715285935305),\n",
       " (array([-9.46102217, -8.21032017, -2.9637246 ]), 15.322321516034105),\n",
       " (array([ 5.53926025, -5.08540994,  3.06948338]), 0.0),\n",
       " (array([-7.29141424, -8.69904549,  9.35421479]), 13.329837576569037),\n",
       " (array([-4.96782721, -8.68348285,  8.87885495]), 11.106080120759138),\n",
       " (array([-6.51800163, -7.51530902, 10.6888415 ]), 12.299673716865081),\n",
       " (array([ 6.97487358, -3.29644711,  1.32252088]), 2.2937684353321273),\n",
       " (array([-6.6424682 ,  3.00661781,  1.32494601]), 14.62448019838062),\n",
       " (array([-9.30488484,  1.69176872,  1.13920151]), 9.903319817240748),\n",
       " (array([-10.4275462 ,  -6.74426641,  -4.03852925]), 1.75598472329565),\n",
       " (array([-10.48371345,   1.49586209,   0.34074824]), 9.759911456823383),\n",
       " (array([-9.01248703, -7.45235611, -2.47230333]), 0.880734519346449),\n",
       " (array([ 5.4487465 , -5.4100137 ,  2.92520958]), 15.17046202966537),\n",
       " (array([-9.46102217, -8.21032017, -2.9637246 ]), 0.0),\n",
       " (array([ 5.53926025, -5.08540994,  3.06948338]), 15.322321516034105),\n",
       " (array([-7.29141424, -8.69904549,  9.35421479]), 2.2239718931472847),\n",
       " (array([-4.96782721, -8.68348285,  8.87885495]), 4.518039820535283),\n",
       " (array([-6.51800163, -7.51530902, 10.6888415 ]), 3.0239726208345004),\n",
       " (array([ 6.97487358, -3.29644711,  1.32252088]), 17.154731640960183),\n",
       " (array([-6.6424682 ,  3.00661781,  1.32494601]), 11.565636352224045)]"
      ]
     },
     "execution_count": 5,
     "metadata": {},
     "output_type": "execute_result"
    }
   ],
   "source": [
    "def clustering(clusterspoints, dataset):   \n",
    "    j = 0\n",
    "    store = []  \n",
    "    while j < k:     \n",
    "        for clpo in clusterspoints:\n",
    "            for row in dataset:\n",
    "                store.append((row,euclidean_distance_on_array(row,clpo)))\n",
    "        j = j+1\n",
    "        return (store)\n",
    "\n",
    "## Okay we got a list of arrays of the distances and datapoints to each cluster.\n",
    "\n",
    "## Contining questions: \n",
    "###Work on the list, with k as an index for comparisment and then asign them to the center of clusters\n",
    "###Or Seperate in three different lists by k values and then compare them\n",
    "###assumption:\n",
    "####the first approach would spare storage because this doesn't need to copy data and with indexing\n",
    "####it's also going through the list fast with n/k simple comparisments of k values\n",
    "\n",
    "#####!!!! With the first approach, storing the date in list_of_clusters needs to be specified by the amount\n",
    "##### of the position with an if/else condition on: (len(list)/amount(clusters)) = 1, then cluster 0 ...\n",
    "\n",
    "# Was heavier then expected with keeping it as dynamic as possible (for now)\n",
    "\n",
    "distanced = clustering(clusters, ds)\n",
    "distanced"
   ]
  },
  {
   "cell_type": "code",
   "execution_count": null,
   "metadata": {},
   "outputs": [],
   "source": []
  },
  {
   "cell_type": "code",
   "execution_count": 94,
   "metadata": {},
   "outputs": [
    {
     "data": {
      "text/plain": [
       "{0: (array([-6.6424682 ,  3.00661781,  1.32494601]), 10.459759009071206),\n",
       " 1: (array([-6.6424682 ,  3.00661781,  1.32494601]), 14.62448019838062),\n",
       " 2: (array([-6.6424682 ,  3.00661781,  1.32494601]), 11.565636352224045)}"
      ]
     },
     "execution_count": 94,
     "metadata": {},
     "output_type": "execute_result"
    }
   ],
   "source": [
    "#s = size of an average cluster. I had it calculated inplace before, but on large data it'll spare some calculations i guess\n",
    "s = (len(distanced)/k)\n",
    "int(s)\n",
    "l = 0\n",
    "dist_to_cluster=[]\n",
    "\n",
    "stored = {}\n",
    "while l < k:\n",
    "    stored[l] = distanced[int(s*l)+int(s-1)]\n",
    "    l = l+1\n",
    "\n",
    "##Proof if the maths is correct\n",
    "#while l < k:\n",
    "#    print(int((len(distanced)/k)*l),int((len(distanced)/k)*l)+int((len(distanced)/k))-1)\n",
    "#    print(l)\n",
    "#    l = l+1\n",
    "stored"
   ]
  },
  {
   "cell_type": "code",
   "execution_count": 161,
   "metadata": {},
   "outputs": [
    {
     "data": {
      "text/plain": [
       "[[[-10.427546200483134, -6.74426640837995, -4.038529247585167]],\n",
       " [[5.539260250655745, -5.085409939456111, 3.0694833784323214]],\n",
       " [[-9.461022168839044, -8.21032017434563, -2.963724598533105]]]"
      ]
     },
     "execution_count": 161,
     "metadata": {},
     "output_type": "execute_result"
    }
   ],
   "source": [
    "#Make a quick list of clusters so we can store the closest neighbor easily\n",
    "list_of_clusters=[]\n",
    "for row in clusters:\n",
    "    list_of_clusters.append([row])\n",
    "list_of_clusters\n",
    "\n",
    "#we can now append the 'row' of the dictonary with the smalest distanced into the same 'row' as in this list"
   ]
  },
  {
   "cell_type": "code",
   "execution_count": 162,
   "metadata": {},
   "outputs": [
    {
     "data": {
      "text/plain": [
       "[[[-10.427546200483134, -6.74426640837995, -4.038529247585167],\n",
       "  [-6.64246819721094, 3.006617809832839, 1.3249460109710745]],\n",
       " [[5.539260250655745, -5.085409939456111, 3.0694833784323214]],\n",
       " [[-9.461022168839044, -8.21032017434563, -2.963724598533105]]]"
      ]
     },
     "execution_count": 162,
     "metadata": {},
     "output_type": "execute_result"
    }
   ],
   "source": [
    "## Okay this step was quite tricky and took a while to figure out but now we can extract the closest values and have the cluster aswell\n",
    "sto_list = [(k,v) for k,v in stored.items()]\n",
    "sto_list\n",
    "\n",
    "c = 0\n",
    "dist_int = []\n",
    "\n",
    "while c < k:\n",
    "    if c == k-1:\n",
    "        list_of_clusters[dist_int[0]].append(dist_int[1][0].tolist())\n",
    "        break\n",
    "    else:\n",
    "        if sto_list[c][-1][-1] < sto_list[c+1][-1][-1]:\n",
    "            dist_int = sto_list[c]\n",
    "            c = c+1\n",
    "        else:\n",
    "            c = c+1\n",
    "list_of_clusters\n",
    "##Super Neet!"
   ]
  },
  {
   "cell_type": "code",
   "execution_count": 155,
   "metadata": {},
   "outputs": [
    {
     "data": {
      "text/plain": [
       "-6.64246819721094"
      ]
     },
     "execution_count": 155,
     "metadata": {},
     "output_type": "execute_result"
    }
   ],
   "source": [
    "# Okay now it's time to assemble our components into propper functions"
   ]
  },
  {
   "cell_type": "code",
   "execution_count": 144,
   "metadata": {},
   "outputs": [
    {
     "data": {
      "text/plain": [
       "10.459759009071206"
      ]
     },
     "execution_count": 144,
     "metadata": {},
     "output_type": "execute_result"
    }
   ],
   "source": []
  },
  {
   "cell_type": "code",
   "execution_count": null,
   "metadata": {},
   "outputs": [],
   "source": []
  }
 ],
 "metadata": {
  "kernelspec": {
   "display_name": "Python 3",
   "language": "python",
   "name": "python3"
  },
  "language_info": {
   "codemirror_mode": {
    "name": "ipython",
    "version": 3
   },
   "file_extension": ".py",
   "mimetype": "text/x-python",
   "name": "python",
   "nbconvert_exporter": "python",
   "pygments_lexer": "ipython3",
   "version": "3.7.3"
  }
 },
 "nbformat": 4,
 "nbformat_minor": 2
}
