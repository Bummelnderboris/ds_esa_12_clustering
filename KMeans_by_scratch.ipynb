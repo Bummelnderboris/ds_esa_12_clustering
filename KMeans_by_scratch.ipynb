{
 "cells": [
  {
   "cell_type": "code",
   "execution_count": 1,
   "metadata": {},
   "outputs": [],
   "source": [
    "# Okay time for our K-Means algorithm! woop woop!\n",
    "\n",
    "# We want our Kmeans algorithm not only to cluster by k given cluster, it should also be able to find best k\n",
    "# this will be done by an approach from the distortion theory, but later more on that. For now we just need to keep\n",
    "# that in mind for our approach tactic\n",
    "\n",
    "# 1. We need to take k+1 (starting with k=1) data points with k_max =< amount of values. (k_1+1,...,k_max) \n",
    "\n",
    "# 2. Calculate the euclidean distance to all data points and asign each to the class of the closest datapoint\n",
    "# 3. Calculate each center of mass for this distribution\n",
    "# 4. Repeat 2 and 3 m times until the centers of mass don't change and then continue with 1\n",
    "\n",
    "# 5. Now just insert the results in the formula to best k by finding the lowest rate of distortion withing the calculated clusters\n",
    "\n",
    "# We want all this to happen in a class on functions, so we can just create with a data set an object of this class"
   ]
  },
  {
   "cell_type": "code",
   "execution_count": 2,
   "metadata": {},
   "outputs": [
    {
     "ename": "NameError",
     "evalue": "name 'norm_data' is not defined",
     "output_type": "error",
     "traceback": [
      "\u001b[1;31m---------------------------------------------------------------------------\u001b[0m",
      "\u001b[1;31mNameError\u001b[0m                                 Traceback (most recent call last)",
      "\u001b[1;32m<ipython-input-2-1fd1685b8913>\u001b[0m in \u001b[0;36m<module>\u001b[1;34m\u001b[0m\n\u001b[1;32m----> 1\u001b[1;33m \u001b[0mnormed_data\u001b[0m \u001b[1;33m=\u001b[0m \u001b[0mnorm_data\u001b[0m\u001b[1;33m.\u001b[0m\u001b[0miloc\u001b[0m\u001b[1;33m[\u001b[0m\u001b[1;33m:\u001b[0m\u001b[1;33m,\u001b[0m\u001b[1;33m:\u001b[0m\u001b[1;33m-\u001b[0m\u001b[1;36m1\u001b[0m\u001b[1;33m]\u001b[0m\u001b[1;33m\u001b[0m\u001b[1;33m\u001b[0m\u001b[0m\n\u001b[0m\u001b[0;32m      2\u001b[0m \u001b[1;33m\u001b[0m\u001b[0m\n\u001b[0;32m      3\u001b[0m \u001b[1;31m# choose n random starting points\u001b[0m\u001b[1;33m\u001b[0m\u001b[1;33m\u001b[0m\u001b[1;33m\u001b[0m\u001b[0m\n\u001b[0;32m      4\u001b[0m \u001b[1;31m# we have set k here to 4 but in the finished code we want it to start with 2 and then increment till choosen k\u001b[0m\u001b[1;33m\u001b[0m\u001b[1;33m\u001b[0m\u001b[1;33m\u001b[0m\u001b[0m\n\u001b[0;32m      5\u001b[0m \u001b[1;33m\u001b[0m\u001b[0m\n",
      "\u001b[1;31mNameError\u001b[0m: name 'norm_data' is not defined"
     ]
    }
   ],
   "source": [
    "%matplotlib inline\n",
    "import numpy as np\n",
    "import pandas as pd\n",
    "import random\n",
    "import matplotlib.pyplot as plt\n",
    "from math import sqrt\n",
    "\n",
    "\n",
    "normed_data = norm_data.iloc[:,:-1]\n",
    "\n",
    "# choose n random starting points\n",
    "# we have set k here to 4 but in the finished code we want it to start with 2 and then increment till choosen k\n",
    "\n",
    "clusterpoints = random.choices(list(range(1,len(normed_data))), k = 4)\n",
    "a = clusterpoints[0]\n",
    "\n",
    "\n",
    "## Alternative\n",
    "#clusters = normed_data.sample(n=2)\n",
    "#clusters"
   ]
  },
  {
   "cell_type": "code",
   "execution_count": 3,
   "metadata": {},
   "outputs": [
    {
     "ename": "NameError",
     "evalue": "name 'get_neighbors' is not defined",
     "output_type": "error",
     "traceback": [
      "\u001b[1;31m---------------------------------------------------------------------------\u001b[0m",
      "\u001b[1;31mNameError\u001b[0m                                 Traceback (most recent call last)",
      "\u001b[1;32m<ipython-input-3-809d4b9798d2>\u001b[0m in \u001b[0;36m<module>\u001b[1;34m\u001b[0m\n\u001b[0;32m      4\u001b[0m \u001b[1;33m\u001b[0m\u001b[0m\n\u001b[0;32m      5\u001b[0m \u001b[1;31m#for i in range(len(clusterpoints)):\u001b[0m\u001b[1;33m\u001b[0m\u001b[1;33m\u001b[0m\u001b[1;33m\u001b[0m\u001b[0m\n\u001b[1;32m----> 6\u001b[1;33m \u001b[0mcvb\u001b[0m \u001b[1;33m=\u001b[0m \u001b[0mget_neighbors\u001b[0m\u001b[1;33m(\u001b[0m\u001b[0mnormed_data\u001b[0m\u001b[1;33m[\u001b[0m\u001b[0mclusterpoints\u001b[0m\u001b[1;33m[\u001b[0m\u001b[1;36m0\u001b[0m\u001b[1;33m]\u001b[0m\u001b[1;33m]\u001b[0m\u001b[1;33m,\u001b[0m \u001b[0mnormed_data\u001b[0m\u001b[1;33m)\u001b[0m\u001b[1;33m\u001b[0m\u001b[1;33m\u001b[0m\u001b[0m\n\u001b[0m",
      "\u001b[1;31mNameError\u001b[0m: name 'get_neighbors' is not defined"
     ]
    }
   ],
   "source": [
    "\n",
    "#center_table = [center1, center2]\n",
    "#center_table\n",
    "\n",
    "#for i in range(len(clusterpoints)):\n",
    "cvb = get_neighbors(normed_data[clusterpoints[0]], normed_data)"
   ]
  },
  {
   "cell_type": "code",
   "execution_count": null,
   "metadata": {},
   "outputs": [],
   "source": [
    "center1 = get_neighbors(normed_data.iloc[i0,:], normed_data)\n",
    "center1\n",
    "\n",
    "center2 = get_neighbors(normed_data.iloc[i1,:], normed_data)\n",
    "center2"
   ]
  }
 ],
 "metadata": {
  "kernelspec": {
   "display_name": "Python 3",
   "language": "python",
   "name": "python3"
  },
  "language_info": {
   "codemirror_mode": {
    "name": "ipython",
    "version": 3
   },
   "file_extension": ".py",
   "mimetype": "text/x-python",
   "name": "python",
   "nbconvert_exporter": "python",
   "pygments_lexer": "ipython3",
   "version": "3.7.3"
  }
 },
 "nbformat": 4,
 "nbformat_minor": 2
}
