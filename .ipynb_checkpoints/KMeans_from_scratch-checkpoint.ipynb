{
 "cells": [
  {
   "cell_type": "code",
   "execution_count": 1,
   "metadata": {},
   "outputs": [],
   "source": [
    "# Okay time for our K-Means algorithm! woop woop!\n",
    "\n",
    "# We want our Kmeans algorithm not only to cluster by k given cluster, it should also be able to find best k\n",
    "# this will be done by an approach from the distortion theory, but later more on that. For now we just need to keep\n",
    "# that in mind for our approach tactic\n",
    "\n",
    "# 1. We need to take k+1 (starting with k=1) data points with k_max =< amount of values. (k_1+1,...,k_max) \n",
    "\n",
    "# 2. Calculate the euclidean distance to all data points and asign each to the class of the closest datapoint\n",
    "# 3. Calculate each center of mass for this distribution\n",
    "# 4. Repeat 2 and 3 m times until the centers of mass don't change and then continue with 1\n",
    "\n",
    "# 5. Now just insert the results in the formula to best k by finding the lowest rate of distortion withing the calculated clusters"
   ]
  },
  {
   "cell_type": "code",
   "execution_count": 2,
   "metadata": {},
   "outputs": [
    {
     "data": {
      "text/plain": [
       "array([[  4.52461873,  -9.5896313 ,   8.01128119],\n",
       "       [ -3.86758498,  10.61746014,  -0.21029543],\n",
       "       [ -6.11533733,   8.28094189,  -1.57025865],\n",
       "       [ -5.31611982,   6.77210076,  -0.69883422],\n",
       "       [  7.07518197,   2.61588512,   9.21671923],\n",
       "       [  8.8777526 ,   0.68232932,  10.09633306],\n",
       "       [  4.81950856,  -5.78149944, -10.42887867],\n",
       "       [  5.08448919,  -8.71236995,   8.09281418],\n",
       "       [  7.27851872,  -8.60572973,  -9.10808473],\n",
       "       [  8.72826205,  -6.46347397,  -9.68624109],\n",
       "       [  2.96702849,  -9.52502881,   7.00207022],\n",
       "       [  8.17694962,   3.55650527,   7.5425348 ]])"
      ]
     },
     "execution_count": 2,
     "metadata": {},
     "output_type": "execute_result"
    }
   ],
   "source": [
    "%matplotlib inline\n",
    "import numpy as np\n",
    "import pandas as pd\n",
    "import random\n",
    "import matplotlib.pyplot as plt\n",
    "from math import sqrt\n",
    "from sklearn import datasets\n",
    "from sklearn.datasets import make_blobs\n",
    "\n",
    "# Create a clustered dataset to use\n",
    "ds,y = make_blobs(n_samples=12, n_features=3, centers=4)\n",
    "\n",
    "# Just to have it also as a dataframe, maybe we want to work with this\n",
    "# But I'd like to try it as a version of n dimensional numpy arrays, because i used a lot of pandas in the previous exercises\n",
    "df = pd.DataFrame (ds, y)\n",
    "df['cluster'] = y\n",
    "ds"
   ]
  },
  {
   "cell_type": "code",
   "execution_count": 3,
   "metadata": {},
   "outputs": [
    {
     "data": {
      "text/plain": [
       "[[4.819508562198623, -5.781499439197187, -10.428878674490933],\n",
       " [7.075181967289255, 2.6158851203886146, 9.216719226041821],\n",
       " [-5.316119816829321, 6.772100756429043, -0.6988342187879598]]"
      ]
     },
     "execution_count": 3,
     "metadata": {},
     "output_type": "execute_result"
    }
   ],
   "source": [
    "# 1. Get random starting points.\n",
    "# when the logic on the simple model works, we will just embedd an incrementer on k and then compare the results for different k's\n",
    "# only important thing till now is, k has to be changable and the code stil needs to work\n",
    "\n",
    "clusters = []\n",
    "centroids = {}\n",
    "k = 3\n",
    "i=0\n",
    "l = 0\n",
    "\n",
    "\n",
    "sample_numbers = random.sample(range(1, len(df)), k)\n",
    "\n",
    "while i < k:\n",
    "    centroids[i] = ds[sample_numbers[i]]\n",
    "    clusters.append(list(centroids[i]))\n",
    "    i = i + 1                 #else: call next function\n",
    "    \n",
    "# fine now we have a list of centroids in our list of clusters\n",
    "clusters"
   ]
  },
  {
   "cell_type": "code",
   "execution_count": 4,
   "metadata": {},
   "outputs": [
    {
     "data": {
      "text/plain": [
       "16.13455423956248"
      ]
     },
     "execution_count": 4,
     "metadata": {},
     "output_type": "execute_result"
    }
   ],
   "source": [
    "def euclidean_distance_on_array(target, distance_to):\n",
    "    distance = 0.0\n",
    "    for n in range(0,k-1): \n",
    "        distance = distance + (target[n] - distance_to[n])**2\n",
    "    return sqrt(distance)\n",
    "\n",
    "euclidean_distance_on_array(centroids[0], ds[3])\n"
   ]
  },
  {
   "cell_type": "code",
   "execution_count": 28,
   "metadata": {},
   "outputs": [],
   "source": [
    "list_of_clusters = []\n",
    "for j in range(k):\n",
    "    list_of_clusters.append([clusters[j]])\n",
    "    \n",
    "    \n",
    "    \n",
    "def clustering(clusterspoints, dataset):\n",
    "    \n",
    "    j = 0\n",
    "    abc={}\n",
    "    \n",
    "    while j < k:\n",
    "        store = []\n",
    "        \n",
    "        for row in dataset:\n",
    "            store.append(euclidean_distance_on_array(row,clusterspoints[j]))\n",
    "            \n",
    "\n",
    "        j = j+1\n",
    "        return (store)\n",
    "        \n",
    "            \n",
    "            \n",
    "###\n",
    "        \n",
    "\n",
    "\n",
    "clustered = clustering(clusters, ds)"
   ]
  },
  {
   "cell_type": "code",
   "execution_count": 29,
   "metadata": {},
   "outputs": [
    {
     "data": {
      "text/plain": [
       "[3.8195324644251634,\n",
       " 18.557787304733726,\n",
       " 17.81356535905177,\n",
       " 16.13455423956248,\n",
       " 8.69506353927349,\n",
       " 7.632196723884755,\n",
       " 0.0,\n",
       " 2.942824612536269,\n",
       " 3.7447306553311135,\n",
       " 3.9678007918345783,\n",
       " 4.176804353933146,\n",
       " 9.923242535964969]"
      ]
     },
     "execution_count": 29,
     "metadata": {},
     "output_type": "execute_result"
    }
   ],
   "source": [
    "clustered"
   ]
  },
  {
   "cell_type": "code",
   "execution_count": null,
   "metadata": {},
   "outputs": [],
   "source": [
    "def clustering(clusterspoints, dataset):\n",
    "    j = 0\n",
    "    calc = {}\n",
    "    for row in dataset:\n",
    "        for clpo in clusterspoints:\n",
    "            calc[j] = euclidean_distance_on_array(row, clpo)\n",
    "            clusters[j+1].append(calc[j])\n",
    "    j = j+1\n",
    "    return (calc)"
   ]
  },
  {
   "cell_type": "code",
   "execution_count": null,
   "metadata": {},
   "outputs": [],
   "source": []
  },
  {
   "cell_type": "code",
   "execution_count": null,
   "metadata": {},
   "outputs": [],
   "source": []
  }
 ],
 "metadata": {
  "kernelspec": {
   "display_name": "Python 3",
   "language": "python",
   "name": "python3"
  },
  "language_info": {
   "codemirror_mode": {
    "name": "ipython",
    "version": 3
   },
   "file_extension": ".py",
   "mimetype": "text/x-python",
   "name": "python",
   "nbconvert_exporter": "python",
   "pygments_lexer": "ipython3",
   "version": "3.7.3"
  }
 },
 "nbformat": 4,
 "nbformat_minor": 2
}
